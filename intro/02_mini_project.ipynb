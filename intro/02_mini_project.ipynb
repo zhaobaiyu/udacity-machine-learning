{
 "cells": [
  {
   "cell_type": "code",
   "execution_count": 1,
   "metadata": {
    "collapsed": false
   },
   "outputs": [],
   "source": [
    "\"\"\" \n",
    "    This is the code to accompany the Lesson 2 (SVM) mini-project.\n",
    "\n",
    "    Use a SVM to identify emails from the Enron corpus by their authors:    \n",
    "    Sara has label 0\n",
    "    Chris has label 1\n",
    "\"\"\"\n",
    "    \n",
    "import numpy as np\n",
    "from time import time\n",
    "from email_preprocess import preprocess\n",
    "from sklearn.svm import SVC\n",
    "from sklearn.metrics import accuracy_score\n",
    "\n",
    "### features_train and features_test are the features for the training\n",
    "### and testing datasets, respectively\n",
    "### labels_train and labels_test are the corresponding item labels\n",
    "# features_train, features_test, labels_train, labels_test = preprocess()\n",
    "\n"
   ]
  },
  {
   "cell_type": "markdown",
   "metadata": {},
   "source": [
    "## training the model with all the data, it takes a long time"
   ]
  },
  {
   "cell_type": "code",
   "execution_count": 2,
   "metadata": {
    "collapsed": false
   },
   "outputs": [
    {
     "name": "stdout",
     "output_type": "stream",
     "text": [
      "training time: 310.614s\n",
      "predicting time: 26.822s\n",
      "0.984072810011\n"
     ]
    }
   ],
   "source": [
    "features_train, features_test, labels_train, labels_test = preprocess()\n",
    "clf = SVC(kernel='linear')\n",
    "t0 = time()\n",
    "clf.fit(features_train, labels_train)\n",
    "print('training time: {:.3f}s'.format(time() - t0))\n",
    "t1 = time()\n",
    "pred = clf.predict(features_test)\n",
    "print('predicting time: {:.3f}s'.format(time() - t1))\n",
    "print(accuracy_score(pred, labels_test))"
   ]
  },
  {
   "cell_type": "markdown",
   "metadata": {},
   "source": [
    "## training the model in a smaller dataset"
   ]
  },
  {
   "cell_type": "code",
   "execution_count": 3,
   "metadata": {
    "collapsed": false
   },
   "outputs": [
    {
     "name": "stdout",
     "output_type": "stream",
     "text": [
      "1% of the original data: 158 data traing samples\n",
      "training time: 0.136s\n",
      "predicting time: 1.498s\n",
      "0.884527872582\n"
     ]
    }
   ],
   "source": [
    "features_train, features_test, labels_train, labels_test = preprocess()\n",
    "features_train = features_train[:len(labels_train)//100]\n",
    "labels_train = labels_train[:len(labels_train)//100]\n",
    "print('1% of the original data: {} data traing samples'.format(len(labels_train)))\n",
    "clf = SVC(kernel='linear')\n",
    "t0 = time()\n",
    "clf.fit(features_train, labels_train)\n",
    "print('training time: {:.3f}s'.format(time() - t0))\n",
    "t1 = time()\n",
    "pred = clf.predict(features_test)\n",
    "print('predicting time: {:.3f}s'.format(time() - t1))\n",
    "print(accuracy_score(pred, labels_test))"
   ]
  },
  {
   "cell_type": "markdown",
   "metadata": {},
   "source": [
    "## rbf kernel, small dataset"
   ]
  },
  {
   "cell_type": "code",
   "execution_count": 4,
   "metadata": {
    "collapsed": false
   },
   "outputs": [
    {
     "name": "stdout",
     "output_type": "stream",
     "text": [
      "1% of the original data: 158 data traing samples\n",
      "\n",
      "parameter C: 10\n",
      "training time: 0.151s\n",
      "predicting time on training samples: 0.152s\n",
      "accuracy of training data 0.677215189873\n",
      "predicting time on test samples: 1.666s\n",
      "accuracy of test data 0.616040955631 \n",
      "\n",
      "parameter C: 100\n",
      "training time: 0.151s\n",
      "predicting time on training samples: 0.153s\n",
      "accuracy of training data 0.677215189873\n",
      "predicting time on test samples: 1.658s\n",
      "accuracy of test data 0.616040955631 \n",
      "\n",
      "parameter C: 1000\n",
      "training time: 0.145s\n",
      "predicting time on training samples: 0.148s\n",
      "accuracy of training data 0.962025316456\n",
      "predicting time on test samples: 1.555s\n",
      "accuracy of test data 0.821387940842 \n",
      "\n",
      "parameter C: 10000\n",
      "training time: 0.141s\n",
      "predicting time on training samples: 0.124s\n",
      "accuracy of training data 1.0\n",
      "predicting time on test samples: 1.328s\n",
      "accuracy of test data 0.892491467577 \n",
      "\n"
     ]
    }
   ],
   "source": [
    "features_train, features_test, labels_train, labels_test = preprocess()\n",
    "features_train = features_train[:len(labels_train)//100]\n",
    "labels_train = labels_train[:len(labels_train)//100]\n",
    "print('1% of the original data: {} data traing samples\\n'.format(len(labels_train)))\n",
    "for c in [10, 100, 1000, 10000]:\n",
    "    clf = SVC(kernel='rbf', C=c)\n",
    "    print('parameter C: {}'.format(c))\n",
    "    t0 = time()\n",
    "    clf.fit(features_train, labels_train)\n",
    "    t1 = time()\n",
    "    print('training time: {:.3f}s'.format(t1- t0))\n",
    "    t0 = time()\n",
    "    pred_train = clf.predict(features_train)\n",
    "    t1 = time()\n",
    "    print('predicting time on training samples: {:.3f}s'.format(t1 - t0))\n",
    "    print('accuracy of training data', accuracy_score(pred_train, labels_train))\n",
    "    t0 = time()\n",
    "    pred_test = clf.predict(features_test)\n",
    "    t1 = time()\n",
    "    print('predicting time on test samples: {:.3f}s'.format(t1 - t0))\n",
    "    print('accuracy of test data', accuracy_score(pred_test, labels_test), '\\n')"
   ]
  },
  {
   "cell_type": "markdown",
   "metadata": {},
   "source": [
    "## rbf kernel, C=10000, all training samples"
   ]
  },
  {
   "cell_type": "code",
   "execution_count": 5,
   "metadata": {
    "collapsed": false
   },
   "outputs": [
    {
     "name": "stdout",
     "output_type": "stream",
     "text": [
      "15820 training samples\n",
      "training time: 168.316s\n",
      "predicting time on test samples: 16.889s\n",
      "accuracy of test data 0.990898748578\n"
     ]
    }
   ],
   "source": [
    "features_train, features_test, labels_train, labels_test = preprocess()\n",
    "print('{} training samples'.format(len(features_train)))\n",
    "clf = SVC(kernel='rbf', C=10000)\n",
    "t0 = time()\n",
    "clf.fit(features_train, labels_train)\n",
    "t1 = time()\n",
    "print('training time: {:.3f}s'.format(t1- t0))\n",
    "t0 = time()\n",
    "pred_test = clf.predict(features_test)\n",
    "t1 = time()\n",
    "print('predicting time on test samples: {:.3f}s'.format(t1 - t0))\n",
    "print('accuracy of test data', accuracy_score(pred_test, labels_test))"
   ]
  },
  {
   "cell_type": "markdown",
   "metadata": {},
   "source": [
    "## the predicting outcome of index 10, 26, 50 in test data"
   ]
  },
  {
   "cell_type": "code",
   "execution_count": 6,
   "metadata": {
    "collapsed": false
   },
   "outputs": [
    {
     "name": "stdout",
     "output_type": "stream",
     "text": [
      "[1 0 1]\n"
     ]
    }
   ],
   "source": [
    "print(pred_test[np.array([10, 26, 50])])"
   ]
  },
  {
   "cell_type": "markdown",
   "metadata": {},
   "source": [
    "## how many are predicted to be in the Chris(1) class"
   ]
  },
  {
   "cell_type": "code",
   "execution_count": 7,
   "metadata": {
    "collapsed": false
   },
   "outputs": [
    {
     "name": "stdout",
     "output_type": "stream",
     "text": [
      "877\n"
     ]
    }
   ],
   "source": [
    "print(pred_test.sum())"
   ]
  },
  {
   "cell_type": "code",
   "execution_count": null,
   "metadata": {
    "collapsed": true
   },
   "outputs": [],
   "source": []
  }
 ],
 "metadata": {
  "kernelspec": {
   "display_name": "Python 3",
   "language": "python",
   "name": "python3"
  },
  "language_info": {
   "codemirror_mode": {
    "name": "ipython",
    "version": 3
   },
   "file_extension": ".py",
   "mimetype": "text/x-python",
   "name": "python",
   "nbconvert_exporter": "python",
   "pygments_lexer": "ipython3",
   "version": "3.5.2+"
  }
 },
 "nbformat": 4,
 "nbformat_minor": 2
}
